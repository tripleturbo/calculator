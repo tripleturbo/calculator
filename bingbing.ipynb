{
 "cells": [
  {
   "cell_type": "code",
   "execution_count": 3,
   "id": "4af14452-0a80-4d1b-9c06-c9a5947d8cd5",
   "metadata": {},
   "outputs": [],
   "source": [
    "import time\n",
    "import os\n",
    "from selenium.webdriver.common.keys import Keys\n",
    "from selenium import webdriver\n",
    "from selenium.webdriver.common.by import By\n",
    "import pandas as pd\n",
    "from tqdm import tqdm\n",
    "from webdriver_manager.chrome import ChromeDriverManager\n",
    "from selenium.webdriver.chrome.service import Service\n",
    "import re\n",
    "\n",
    "pop_list=[]\n",
    "name_list=[]\n",
    "def movieF (site,s_name):\n",
    "    dv = webdriver.Chrome(service=Service(ChromeDriverManager().install()))\n",
    "    search_list=s_name\n",
    "    for key in search_list:\n",
    "        try:\n",
    "            dv.get(site)\n",
    "            time.sleep(2)\n",
    "            page_c = dv.find_element(By.NAME,'q')\n",
    "            page_c.send_keys(key)\n",
    "            page_c.send_keys(Keys.ENTER)\n",
    "            time.sleep(2)\n",
    "            for nam in range(1):\n",
    "                popul= dv.find_element(By.CSS_SELECTOR,'#b_tween > span.sb_count').text\n",
    "                pop_list.append(popul)\n",
    "                name_list.append(search_list)\n",
    "\n",
    "                # name= dv.find_element(By.CLASS_NAME,'b_entityTitle').text\n",
    "                # name_list.append(name)\n",
    "        except:\n",
    "            print('알수있는 오류가 발생했습니다.')\n",
    "    \n",
    "    bing_df=pd.DataFrame({'검색어': search_list,\n",
    "                          '검색결과':pop_list})\n",
    "    return bing_df\n"
   ]
  },
  {
   "cell_type": "code",
   "execution_count": 5,
   "id": "18e83273-c7c5-4cf1-b426-47f68423faa3",
   "metadata": {},
   "outputs": [
    {
     "data": {
      "text/html": [
       "<div>\n",
       "<style scoped>\n",
       "    .dataframe tbody tr th:only-of-type {\n",
       "        vertical-align: middle;\n",
       "    }\n",
       "\n",
       "    .dataframe tbody tr th {\n",
       "        vertical-align: top;\n",
       "    }\n",
       "\n",
       "    .dataframe thead th {\n",
       "        text-align: right;\n",
       "    }\n",
       "</style>\n",
       "<table border=\"1\" class=\"dataframe\">\n",
       "  <thead>\n",
       "    <tr style=\"text-align: right;\">\n",
       "      <th></th>\n",
       "      <th>검색어</th>\n",
       "      <th>검색결과</th>\n",
       "    </tr>\n",
       "  </thead>\n",
       "  <tbody>\n",
       "    <tr>\n",
       "      <th>0</th>\n",
       "      <td>백두산</td>\n",
       "      <td>348,000결과</td>\n",
       "    </tr>\n",
       "    <tr>\n",
       "      <th>1</th>\n",
       "      <td>이병헌</td>\n",
       "      <td>385,000결과</td>\n",
       "    </tr>\n",
       "    <tr>\n",
       "      <th>2</th>\n",
       "      <td>하정우</td>\n",
       "      <td>202,000결과</td>\n",
       "    </tr>\n",
       "    <tr>\n",
       "      <th>3</th>\n",
       "      <td>마동석</td>\n",
       "      <td>511,000결과</td>\n",
       "    </tr>\n",
       "    <tr>\n",
       "      <th>4</th>\n",
       "      <td>전혜진</td>\n",
       "      <td>28,600결과</td>\n",
       "    </tr>\n",
       "    <tr>\n",
       "      <th>5</th>\n",
       "      <td>배수지</td>\n",
       "      <td>101,000결과</td>\n",
       "    </tr>\n",
       "  </tbody>\n",
       "</table>\n",
       "</div>"
      ],
      "text/plain": [
       "   검색어       검색결과\n",
       "0  백두산  348,000결과\n",
       "1  이병헌  385,000결과\n",
       "2  하정우  202,000결과\n",
       "3  마동석  511,000결과\n",
       "4  전혜진   28,600결과\n",
       "5  배수지  101,000결과"
      ]
     },
     "execution_count": 5,
     "metadata": {},
     "output_type": "execute_result"
    }
   ],
   "source": [
    "movieF('https://www.bing.com/',['백두산',\t'이병헌', '하정우', '마동석', '전혜진', '배수지'])\n"
   ]
  },
  {
   "cell_type": "code",
   "execution_count": null,
   "id": "e965a484-efb7-465e-a98c-2dcc642e3ad3",
   "metadata": {},
   "outputs": [],
   "source": [
    "# for i in search_list:\n",
    "\n",
    "#     dv = webdriver.Chrome(service=Service(ChromeDriverManager().install()))\n",
    "#     dv.get('https://www.bing.com/search?q='+ search_list)\n",
    "#     time.sleep(2)\n",
    "#     page_c = dv.find_element(By.NAME,'q')\n",
    "#     page_c.send_keys(movie_list)\n",
    "#     page_c.send_keys(Keys.ENTER)\n",
    "#     time.sleep(2)\n",
    "#     popul=dv.find_element(By.CSS_SELECTOR,'#b_tween > span.sb_count').text\n",
    "#     print(popul)"
   ]
  },
  {
   "cell_type": "code",
   "execution_count": null,
   "id": "bd5219c5-dfe5-471b-a01d-008e12b636d1",
   "metadata": {},
   "outputs": [],
   "source": []
  },
  {
   "cell_type": "code",
   "execution_count": 52,
   "id": "3b4aa140-b053-4cf6-8693-626ce539b14d",
   "metadata": {},
   "outputs": [
    {
     "data": {
      "text/plain": [
       "3"
      ]
     },
     "execution_count": 52,
     "metadata": {},
     "output_type": "execute_result"
    }
   ],
   "source": [
    "len(movie_list)"
   ]
  },
  {
   "cell_type": "code",
   "execution_count": 140,
   "id": "a4c246e7-c0da-4d86-a5ee-182b5f7dd656",
   "metadata": {},
   "outputs": [
    {
     "data": {
      "text/plain": [
       "['류호정', '백설공주', '예수님']"
      ]
     },
     "execution_count": 140,
     "metadata": {},
     "output_type": "execute_result"
    }
   ],
   "source": [
    "search_list"
   ]
  },
  {
   "cell_type": "code",
   "execution_count": null,
   "id": "4412091f-97eb-4c3f-82c6-0b7701e4b476",
   "metadata": {},
   "outputs": [],
   "source": []
  }
 ],
 "metadata": {
  "kernelspec": {
   "display_name": "Python 3 (ipykernel)",
   "language": "python",
   "name": "python3"
  },
  "language_info": {
   "codemirror_mode": {
    "name": "ipython",
    "version": 3
   },
   "file_extension": ".py",
   "mimetype": "text/x-python",
   "name": "python",
   "nbconvert_exporter": "python",
   "pygments_lexer": "ipython3",
   "version": "3.9.12"
  }
 },
 "nbformat": 4,
 "nbformat_minor": 5
}
